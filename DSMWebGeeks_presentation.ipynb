{
 "cells": [
  {
   "cell_type": "markdown",
   "metadata": {
    "slideshow": {
     "slide_type": "subslide"
    }
   },
   "source": [
    "# The Cheese\n",
    "\n",
    "\n",
    "![API Endgoal](./static/simple-api-github.png \"API Endgoal\")\n",
    "\n",
    "Check out the full tutorial at: \n",
    "# https://github.com/micleners/DSM-Web-Geeks-Ember-Django"
   ]
  },
  {
   "cell_type": "markdown",
   "metadata": {
    "slideshow": {
     "slide_type": "slide"
    }
   },
   "source": [
    "## Backend Startup\n",
    "\n",
    "Base folder: `mkdir ember-django && cd ember-django`\n",
    "\n",
    "Create backend environment with packages: \n",
    "- `mkdir events-backend && cd events-backend`\n",
    "- `pipenv install django djangorestframework djangorestframework-jsonapi`\n",
    "\n",
    "Activate Backend Shell: `pipenv shell`\n",
    "\n",
    "Start Django Project: `django-admin startproject main_project .`\n",
    "\n",
    "Create Events App: `python manage.py startapp events`\n",
    "\n",
    "Start Server: `python manage.py runserver`\n",
    "\n",
    "Cool - can't really do anything yet tho 😎"
   ]
  },
  {
   "cell_type": "markdown",
   "metadata": {
    "slideshow": {
     "slide_type": "subslide"
    }
   },
   "source": [
    "### We end up with a file structure like this:\n",
    "\n",
    "```\n",
    "▾ events/\n",
    "  ▸ migrations/\n",
    "  - __init__.py\n",
    "  - admin.py\n",
    "  - apps.py\n",
    "  - models.py\n",
    "  - tests.py\n",
    "  - views.py\n",
    "▾ main_project/\n",
    "  - __init__.py\n",
    "  - settings.py\n",
    "  - urls.py\n",
    "  - wsgi.py\n",
    "- manage.py\n",
    "- Pipfile\n",
    "- Pipfile.lock\n",
    "```"
   ]
  },
  {
   "cell_type": "markdown",
   "metadata": {
    "slideshow": {
     "slide_type": "subslide"
    }
   },
   "source": [
    "### Housekeeping: Inject Apps into `main_project`\n",
    "\n",
    "```python\n",
    "INSTALLED_APPS = [\n",
    "    'django.contrib.admin',\n",
    "    'django.contrib.auth',\n",
    "    'django.contrib.contenttypes',\n",
    "    'django.contrib.sessions',\n",
    "    'django.contrib.messages',\n",
    "    'django.contrib.staticfiles',\n",
    "    # import rest_framework for viewset and serializer helpers\n",
    "    'rest_framework',\n",
    "    # add `events` application to main project\n",
    "    'events'\n",
    "]\n",
    "```"
   ]
  },
  {
   "cell_type": "markdown",
   "metadata": {
    "slideshow": {
     "slide_type": "slide"
    }
   },
   "source": [
    "# COMMIT\n",
    "\n",
    "Backend django project and events app created"
   ]
  },
  {
   "cell_type": "markdown",
   "metadata": {
    "slideshow": {
     "slide_type": "slide"
    }
   },
   "source": [
    "## Building Model, Serializer, View and URL for Events\n",
    "\n",
    "To build an API endpoint (URL to GET, POST, PUT and DELETE) we will do the following:\n",
    "\n",
    "1. Create our new model (and make migrations)\n",
    "2. Create a serializer for events\n",
    "3. Create views for our events\n",
    "4. Route up our URLs to our views"
   ]
  },
  {
   "cell_type": "markdown",
   "metadata": {
    "slideshow": {
     "slide_type": "subslide"
    }
   },
   "source": [
    "### Create our Events Model\n",
    "\n",
    "Add the following code to: `/events-backend/event/models.py`\n",
    "\n",
    "```python\n",
    "from django.db import models\n",
    "from django.utils import timezone\n",
    "\n",
    "# basic information for our events \n",
    "class Event(models.Model):\n",
    "    # Only required field is title\n",
    "    title = models.CharField(max_length=256)\n",
    "    presenter = models.CharField(max_length=256, blank=True)\n",
    "    # Default time is now if not provided\n",
    "    time = models.DateTimeField(default=timezone.now)\n",
    "    location = models.CharField(max_length=256, blank=True)\n",
    "    description = models.TextField(blank=True)\n",
    "```\n",
    "\n",
    "### And migrate the database:\n",
    "\n",
    "`python manage.py makemigrations`\n",
    "\n",
    "`python manage.py migrate`"
   ]
  },
  {
   "cell_type": "markdown",
   "metadata": {
    "slideshow": {
     "slide_type": "subslide"
    }
   },
   "source": [
    "### Make Serializer for Events\n",
    "\n",
    "Create the file `/events-backend/event/serializers.py` file in events and create serializer:\n",
    "\n",
    "```python\n",
    "from django.contrib.auth.models import User, Group\n",
    "from .models import Event\n",
    "from rest_framework import serializers\n",
    "\n",
    "\n",
    "# serializers to convert from Django model objects to JSON\n",
    "class UserSerializer(serializers.HyperlinkedModelSerializer):\n",
    "    class Meta:\n",
    "        model = User\n",
    "        fields = ('url', 'username', 'email', 'groups')\n",
    "\n",
    "# or specify all fields\n",
    "class EventSerializer(serializers.HyperlinkedModelSerializer):\n",
    "    class Meta:\n",
    "        model = Event\n",
    "        fields = '__all__'\n",
    "```"
   ]
  },
  {
   "cell_type": "markdown",
   "metadata": {
    "slideshow": {
     "slide_type": "subslide"
    }
   },
   "source": [
    "### Creating a View for our Events\n",
    "\n",
    "Navigate to the `views.py` file in our events app. Create viewsets:\n",
    "\n",
    "```python\n",
    "from django.contrib.auth.models import User\n",
    "from rest_framework import viewsets\n",
    "from .models import Event\n",
    "from .serializers import UserSerializer, EventSerializer\n",
    "\n",
    "\n",
    "class UserViewSet(viewsets.ModelViewSet):\n",
    "    \"\"\"\n",
    "    API endpoint that allows users to be viewed or edited.\n",
    "    \"\"\"\n",
    "    queryset = User.objects.all().order_by('-date_joined')\n",
    "    serializer_class = UserSerializer\n",
    "\n",
    "class EventViewSet(viewsets.ModelViewSet):\n",
    "    \"\"\"\n",
    "    API endpoint that allows groups to be viewed or edited.\n",
    "    \"\"\"\n",
    "    resource_name = 'events'\n",
    "    queryset = Event.objects.all()\n",
    "    serializer_class = EventSerializer\n",
    "```"
   ]
  },
  {
   "cell_type": "markdown",
   "metadata": {
    "slideshow": {
     "slide_type": "subslide"
    }
   },
   "source": [
    "### Connecting our URLs\n",
    "\n",
    "In `events-backend/main_project/urls.py`, register the EventViewSet and the UserViewSet\n",
    "\n",
    "```python\n",
    "from django.urls import include, path\n",
    "from django.contrib import admin\n",
    "from rest_framework import routers\n",
    "from events import views\n",
    "\n",
    "router = routers.DefaultRouter()\n",
    "router.register(r'users', views.UserViewSet)\n",
    "router.register(r'events', views.EventViewSet)\n",
    "\n",
    "urlpatterns = [\n",
    "    path('api/', include(router.urls)),\n",
    "    path('api-auth/', include('rest_framework.urls', namespace='rest_framework')),\n",
    "    path('admin/', admin.site.urls),\n",
    "]\n",
    "```"
   ]
  },
  {
   "cell_type": "markdown",
   "metadata": {
    "slideshow": {
     "slide_type": "slide"
    }
   },
   "source": [
    "## Start Server and Witness the Magic DRF API\n",
    "\n",
    "Run: `python manage.py runserver`\n",
    "\n",
    "And navigate to Events API: http://localhost:8000/api/events/"
   ]
  },
  {
   "cell_type": "markdown",
   "metadata": {
    "slideshow": {
     "slide_type": "slide"
    }
   },
   "source": [
    "# COMMIT\n",
    "\n",
    "Backend API endpoint created for events"
   ]
  },
  {
   "cell_type": "markdown",
   "metadata": {
    "slideshow": {
     "slide_type": "subslide"
    }
   },
   "source": [
    "# What's a serializer doin anyhow?!\n",
    "\n",
    "\n",
    "![Serialization from Django Model to JSON](./static/drf-serializer-figure.png \"Serialization from Django Model to JSON\")"
   ]
  },
  {
   "cell_type": "markdown",
   "metadata": {
    "slideshow": {
     "slide_type": "subslide"
    }
   },
   "source": [
    "# Recap of Backend\n",
    "\n",
    "\n",
    "![The parts of our django project](./static/django-architecture.png \"The parts of our django project\")\n",
    "\n",
    "### What's in this diagram that we have not yet incorperated into our django project?"
   ]
  },
  {
   "cell_type": "markdown",
   "metadata": {
    "slideshow": {
     "slide_type": "slide"
    }
   },
   "source": [
    "# Our Data on JSON-API\n",
    "\n",
    "JSON is awesome - it is very flexible... 🤔 too flexible for it's own good\n",
    "\n",
    "JSON-API Specification helps us know what to expect!\n",
    "> By following shared conventions, you can increase productivity, take advantage of generalized tooling, and focus on what matters: your application.\n",
    "\n",
    "Also, Ember data expects JSON-API. Convenient! No munging Django Models --> Ember Models\n",
    "\n"
   ]
  },
  {
   "cell_type": "markdown",
   "metadata": {
    "slideshow": {
     "slide_type": "subslide"
    }
   },
   "source": [
    "![Side by Side comparison of JSON vs JSON API](static/json-vs-jsonapi.png \"Side by Side comparison of JSON vs JSON API\")\n",
    "\n",
    "While JSON-API is more verbose, the consisten structure and the information provided is much more useful for microservice communication."
   ]
  },
  {
   "cell_type": "markdown",
   "metadata": {
    "slideshow": {
     "slide_type": "subslide"
    }
   },
   "source": [
    "### Activate JSON-API in our Django App\n",
    "\n",
    "We have already installed DRF JSON-API at the start. Paste the following code in `main_project/settings.py` to set up JSON-API:\n",
    "\n",
    "```python\n",
    "# RestFramework settings for DjangoRestFramework-JSONAPI\n",
    "REST_FRAMEWORK = {\n",
    "  'PAGE_SIZE': 100,\n",
    "\n",
    "  'EXCEPTION_HANDLER':\n",
    "    'rest_framework_json_api.exceptions.exception_handler',\n",
    "\n",
    "  'DEFAULT_PAGINATION_CLASS':    'rest_framework_json_api.pagination.JsonApiPageNumberPagination',\n",
    "  'DEFAULT_PARSER_CLASSES': (\n",
    "    'rest_framework_json_api.parsers.JSONParser',\n",
    "    'rest_framework.parsers.FormParser',\n",
    "    'rest_framework.parsers.MultiPartParser'\n",
    "  ),\n",
    "  'DEFAULT_RENDERER_CLASSES': (\n",
    "    'rest_framework_json_api.renderers.JSONRenderer',\n",
    "    'rest_framework.renderers.BrowsableAPIRenderer',\n",
    "   ),\n",
    "   'DEFAULT_METADATA_CLASS': 'rest_framework_json_api.metadata.JSONAPIMetadata',\n",
    "   'DEFAULT_FILTER_BACKENDS': (\n",
    "     'rest_framework.filters.OrderingFilter',\n",
    "    ),\n",
    "   'ORDERING_PARAM': 'sort',\n",
    "\n",
    "   'TEST_REQUEST_RENDERER_CLASSES': (\n",
    "     'rest_framework_json_api.renderers.JSONRenderer',\n",
    "    ),\n",
    "\n",
    "   'TEST_REQUEST_DEFAULT_FORMAT': 'vnd.api+json'\n",
    "}\n",
    "```\n",
    "\n",
    "You can refresh the API in your browser and see the data format has changed: http://localhost:8000/api/events"
   ]
  },
  {
   "cell_type": "markdown",
   "metadata": {
    "slideshow": {
     "slide_type": "slide"
    }
   },
   "source": [
    "# COMMIT\n",
    "\n",
    "Activate JSON-API at endpoints"
   ]
  },
  {
   "cell_type": "markdown",
   "metadata": {
    "slideshow": {
     "slide_type": "subslide"
    }
   },
   "source": [
    "# The Cheese\n",
    "\n",
    "\n",
    "![API Endgoal](./static/simple-api-github.png \"API Endgoal\")"
   ]
  },
  {
   "cell_type": "markdown",
   "metadata": {
    "slideshow": {
     "slide_type": "slide"
    }
   },
   "source": [
    "## Frontend Startup\n",
    "\n",
    "In base folder: `ember-django`\n",
    "\n",
    "Install Ember: `npm install -g ember-cli`\n",
    "\n",
    "Create App: `ember new events-frontend`\n",
    "\n",
    "Enter into Directory: `cd events-frontend`\n",
    "\n",
    "**Note**: Ember already creates a git repository. You can delete it with `rm -rf .git` if you plan to use a sinple repo in the base folder"
   ]
  },
  {
   "cell_type": "markdown",
   "metadata": {
    "slideshow": {
     "slide_type": "subslide"
    }
   },
   "source": [
    "## Well Hello, Tomster!\n",
    "![Tomster Welcome](static/tomster_welcome.png \"Ember Welcome Page\")"
   ]
  },
  {
   "cell_type": "markdown",
   "metadata": {
    "slideshow": {
     "slide_type": "slide"
    }
   },
   "source": [
    "# Load in data - the classic \"GET\"\n",
    "\n",
    "To get our data from the API, we will need to:\n",
    "1. Set up the API URL in `adapter/application.js`\n",
    "2. Create a model for our event data\n",
    "3. Fetch our data in our route javascript file\n",
    "4. Display the data in the browser"
   ]
  },
  {
   "cell_type": "markdown",
   "metadata": {
    "slideshow": {
     "slide_type": "subslide"
    }
   },
   "source": [
    "## Set up the API URL in `adapter/application.js`\n",
    "\n",
    "Create our adapter with Ember CLI: `ember g adapter application`\n",
    "\n",
    "In the file `app/adapters/application.js` update with:\n",
    "\n",
    "```javascript\n",
    "import DS from 'ember-data';\n",
    "import { computed } from '@ember/object';\n",
    "\n",
    "export default DS.RESTAdapter.extend({\n",
    "  host: computed(function(){\n",
    "    return 'http://localhost:8000';\n",
    "  }),\n",
    "  namespace: 'api',\n",
    "  buildURL: function(type, id, record) {\n",
    "  //call the default buildURL and then append a slash\n",
    "  return this._super(type, id, record) + '/';\n",
    "  }\n",
    "});\n",
    "```\n",
    "\n",
    "Builds URL with: `{ host }` / `{ namespace }` / `{extra bits }` `{append /}` \n",
    "     \n",
    "  --> `http://localhost:8000/` `api/` `events/1` `/`"
   ]
  },
  {
   "cell_type": "markdown",
   "metadata": {
    "slideshow": {
     "slide_type": "subslide"
    }
   },
   "source": [
    "## Create a model for events\n",
    "\n",
    "Create an ember model via the CLI to load our API data into:\n",
    "\n",
    "`ember g model event`\n",
    "\n",
    "We then go into `create app/models/event.js` and create our model with the same fields as we did in django:\n",
    "\n",
    "```javascript\n",
    "import DS from 'ember-data';\n",
    "import { computed } from '@ember/object'\n",
    "import moment from 'moment';\n",
    "const { Model } = DS;\n",
    "\n",
    "export default Model.extend({\n",
    "    title: DS.attr(),\n",
    "    presenter: DS.attr(),\n",
    "    time: DS.attr(),\n",
    "    location: DS.attr(),\n",
    "    description: DS.attr(),\n",
    "    formattedTime: computed('time', function() {\n",
    "        return moment(this.time).format(\"ddd @ h:mm a, MMMM D, YYYY\")\n",
    "    })\n",
    "});\n",
    "```"
   ]
  },
  {
   "cell_type": "markdown",
   "metadata": {
    "slideshow": {
     "slide_type": "subslide"
    }
   },
   "source": [
    "## Get data in route js\n",
    "\n",
    "Generate our route to load and display our data: `ember g route events`\n",
    "\n",
    "In the file `app/routes/events.js` and we will load our data as an API call:\n",
    "\n",
    "```javascript\n",
    "import Route from '@ember/routing/route';\n",
    "import { inject as service } from '@ember/service';\n",
    "\n",
    "export default Route.extend({\n",
    "    store: service(),\n",
    "\n",
    "    model() {\n",
    "        const store = this.get('store');\n",
    "        return store.findAll('event');\n",
    "    }\n",
    "});\n",
    "```\n",
    "\n",
    "Spin up server and let's see what we got!"
   ]
  },
  {
   "cell_type": "markdown",
   "metadata": {
    "slideshow": {
     "slide_type": "slide"
    }
   },
   "source": [
    "## Deal With CORS\n",
    "\n",
    "A Django App that adds CORS (Cross-Origin Resource Sharing) headers to responses. Just what we need! Install with pip into your django project:\n",
    "\n",
    "`pip install django-cors-headers`\n",
    "\n",
    "Add it to your installed_apps in `settings.py`\n",
    "\n",
    "```python\n",
    "INSTALLED_APPS = [\n",
    "  'django.contrib.admin',\n",
    "  'django.contrib.auth',\n",
    "  'django.contrib.contenttypes',\n",
    "  'django.contrib.sessions',\n",
    "  'django.contrib.messages',\n",
    "  'django.contrib.staticfiles',\n",
    "  'rest_framework',\n",
    "  'events',\n",
    "  # corsheaders allows for cross origin communication\n",
    "  'corsheaders',\n",
    "]\n",
    "```"
   ]
  },
  {
   "cell_type": "markdown",
   "metadata": {
    "slideshow": {
     "slide_type": "subslide"
    }
   },
   "source": [
    "Add it to the top of your middleware:\n",
    "\n",
    "```python\n",
    "MIDDLEWARE = [\n",
    "  # put CorsMiddleware at the top of middleware\n",
    "  'corsheaders.middleware.CorsMiddleware',\n",
    "  'django.middleware.security.SecurityMiddleware',\n",
    "  'django.contrib.sessions.middleware.SessionMiddleware',\n",
    "```\n",
    "\n",
    "And lastly, set the mode to debug so no origin shall be denied (**note**: you would not want to put this app on the web this way, but for local development this is fine)\n",
    "\n",
    "```python\n",
    "# opens access localhost:8000, including from frontend localhost:4200\n",
    "CORS_ORIGIN_ALLOW_ALL = DEBUG\n",
    "```\n",
    "\n",
    "You may need to stop and start your backend server again, but with a referesh of the frontend, this error should go away. Now how to get the data to display in the browser? We'll work on that next!"
   ]
  },
  {
   "cell_type": "markdown",
   "metadata": {
    "slideshow": {
     "slide_type": "slide"
    }
   },
   "source": [
    "## Load Data into the Handlebars\n",
    "\n",
    "Navigate into `app/templates/events.hbs` and load our model fields and do some styling along with it:\n",
    "\n",
    "```html\n",
    "<div class=\"container\">\n",
    "  <h2 class=\"display-1\">Upcoming Events</h2>\n",
    "  {{#each model as |event|}}\n",
    "  <div class=\"card mb-3\">\n",
    "    <div class=\"card-header p-3 lead\">{{event.title}}</div>\n",
    "    <ul class=\"list-group list-group-flush list-group-item-action\">\n",
    "      <li class=\"list-group-item p-1 pl-3\">Who: {{event.presenter}} </li>\n",
    "      <li class=\"list-group-item p-1 pl-3\">What: {{event.description}}</li>\n",
    "      <li class=\"list-group-item p-1 pl-3\">Where: {{event.location}}</li>\n",
    "      <li class=\"list-group-item p-1 pl-3\">When: {{event.formattedTime}}</li>\n",
    "    </ul>\n",
    "  </div>\n",
    "  {{/each}}\n",
    "</div>\n",
    "```\n",
    "\n",
    "Spin up the server and check it out!"
   ]
  },
  {
   "cell_type": "markdown",
   "metadata": {
    "slideshow": {
     "slide_type": "slide"
    }
   },
   "source": [
    "## Low Hanging Fruit: Delete\n",
    "\n",
    "Plan of action:\n",
    "1. Create an action in `events.hbs` to trigger event in js\n",
    "2. Create a controller for events.js to handle our action\n",
    "3. Have action call `destroyRecord` method on the event to delete the instance"
   ]
  },
  {
   "cell_type": "markdown",
   "metadata": {
    "slideshow": {
     "slide_type": "subslide"
    }
   },
   "source": [
    "### Create an action in events.hbs\n",
    "Ember action invoked by: `{{action 'delete' event}}`. \n",
    "- `action` invokes an action that should be handled in the route or controller\n",
    "- `'delete'` will be the name of our action in our controller\n",
    "- `event` is a parameter that will be passed into our action\n",
    "\n",
    "```html\n",
    "...truncated...\n",
    "    <div class=\"card-header p-3 lead\">\n",
    "      {{event.title}}\n",
    "      <div class=\"btn btn-danger btn-lg float-right\" role=\"button\" {{action 'delete' event}}>Del\n",
    "    </div>\n",
    "    <ul class=\"list-group list-group-flush list-group-item-action\">\n",
    "...truncated...\n",
    "```"
   ]
  },
  {
   "cell_type": "markdown",
   "metadata": {
    "slideshow": {
     "slide_type": "subslide"
    }
   },
   "source": [
    "### Create a crontroller for events.js to handle our action\n",
    "Using Ember CLI:\n",
    "\n",
    "`ember g controller events`\n",
    "\n",
    "Then navigate into the file `app/controllers/events.js`. We will create this action to handle our delete:\n",
    "\n",
    "```javascript\n",
    "import Controller from '@ember/controller';\n",
    "\n",
    "export default Controller.extend({\n",
    "  actions: {\n",
    "    delete(event) {\n",
    "      event.destroyRecord()\n",
    "    },\n",
    "  }\n",
    "});\n",
    "```"
   ]
  },
  {
   "cell_type": "markdown",
   "metadata": {
    "slideshow": {
     "slide_type": "slide"
    }
   },
   "source": [
    "### 🙌 🙌 Now we have R(etrieve) and D(elete) of CRUD for our REST API Frontend Client\n",
    "\n",
    "Unfortunately we won't have time to complete all of our CRUD actions in this demonstration. This includes fun things like creating components, passing data down and bubbling actions up. Can it get any cooler?\n",
    "\n",
    "Check out the full tutorial at: \n",
    "# https://github.com/micleners/DSM-Web-Geeks-Ember-Django\n",
    "\n",
    "## Questions?"
   ]
  }
 ],
 "metadata": {
  "celltoolbar": "Slideshow",
  "kernelspec": {
   "display_name": "Python 3",
   "language": "python",
   "name": "python3"
  },
  "language_info": {
   "codemirror_mode": {
    "name": "ipython",
    "version": 3
   },
   "file_extension": ".py",
   "mimetype": "text/x-python",
   "name": "python",
   "nbconvert_exporter": "python",
   "pygments_lexer": "ipython3",
   "version": "3.7.3"
  }
 },
 "nbformat": 4,
 "nbformat_minor": 2
}
