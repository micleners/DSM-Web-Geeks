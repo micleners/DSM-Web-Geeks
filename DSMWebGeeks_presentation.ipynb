{
 "cells": [
  {
   "cell_type": "markdown",
   "metadata": {
    "slideshow": {
     "slide_type": "subslide"
    }
   },
   "source": [
    "# The Cheese\n",
    "\n",
    "\n",
    "![API Endgoal](./static/simple-api-github.png \"API Endgoal\")"
   ]
  },
  {
   "cell_type": "markdown",
   "metadata": {
    "slideshow": {
     "slide_type": "slide"
    }
   },
   "source": [
    "## Backend Startup\n",
    "\n",
    "Base folder: `mkdir ember-django && cd ember-django`\n",
    "\n",
    "Create backend environment with packages: \n",
    "- `mkdir events-backend && cd events-backend`\n",
    "- `pipenv install django djangorestframework djangorestframework-jsonapi`\n",
    "\n",
    "Activate Backend Shell: `pipenv shell`\n",
    "\n",
    "Start Django Project: `django-admin startproject main_project .`\n",
    "\n",
    "Create Events App: `python manage.py startapp events`\n",
    "\n",
    "Start Server: `python manage.py runserver`\n",
    "\n",
    "Cool - can't really do anything yet tho 😎"
   ]
  },
  {
   "cell_type": "markdown",
   "metadata": {
    "slideshow": {
     "slide_type": "subslide"
    }
   },
   "source": [
    "### We end up with a file structure like this:\n",
    "\n",
    "```\n",
    "▾ events/\n",
    "  ▸ migrations/\n",
    "  - __init__.py\n",
    "  - admin.py\n",
    "  - apps.py\n",
    "  - models.py\n",
    "  - tests.py\n",
    "  - views.py\n",
    "▾ main_project/\n",
    "  - __init__.py\n",
    "  - settings.py\n",
    "  - urls.py\n",
    "  - wsgi.py\n",
    "- manage.py\n",
    "- Pipfile\n",
    "- Pipfile.lock\n",
    "```"
   ]
  },
  {
   "cell_type": "markdown",
   "metadata": {
    "slideshow": {
     "slide_type": "subslide"
    }
   },
   "source": [
    "### Housekeeping: Inject Apps into `main_project`\n",
    "\n",
    "```python\n",
    "INSTALLED_APPS = [\n",
    "    'django.contrib.admin',\n",
    "    'django.contrib.auth',\n",
    "    'django.contrib.contenttypes',\n",
    "    'django.contrib.sessions',\n",
    "    'django.contrib.messages',\n",
    "    'django.contrib.staticfiles',\n",
    "    # import rest_framework for viewset and serializer helpers\n",
    "    'rest_framework',\n",
    "    # add `events` application to main project\n",
    "    'events'\n",
    "]\n",
    "```"
   ]
  },
  {
   "cell_type": "markdown",
   "metadata": {
    "slideshow": {
     "slide_type": "slide"
    }
   },
   "source": [
    "# COMMIT\n",
    "\n",
    "Backend django project and events app created"
   ]
  },
  {
   "cell_type": "markdown",
   "metadata": {
    "slideshow": {
     "slide_type": "slide"
    }
   },
   "source": [
    "## Building Model, Serializer, View and URL for Events\n",
    "\n",
    "To build an API endpoint (URL to GET, POST, PUT and DELETE) we will do the following:\n",
    "\n",
    "1. Create our new model (and make migrations)\n",
    "2. Create a serializer for events\n",
    "3. Create views for our events\n",
    "4. Route up our URLs to our views"
   ]
  },
  {
   "cell_type": "markdown",
   "metadata": {
    "slideshow": {
     "slide_type": "subslide"
    }
   },
   "source": [
    "### Create our Events Model\n",
    "\n",
    "Add the following code to: `/events-backend/event/models.py`\n",
    "\n",
    "```python\n",
    "from django.db import models\n",
    "from django.utils import timezone\n",
    "\n",
    "# basic information for our events \n",
    "class Event(models.Model):\n",
    "    # Only required field is title\n",
    "    title = models.CharField(max_length=256)\n",
    "    presenter = models.CharField(max_length=256, blank=True)\n",
    "    # Default time is now if not provided\n",
    "    time = models.DateTimeField(default=timezone.now)\n",
    "    location = models.CharField(max_length=256, blank=True)\n",
    "    description = models.TextField(blank=True)\n",
    "```\n",
    "\n",
    "### And migrate the database:\n",
    "\n",
    "`python manage.py makemigrations`\n",
    "\n",
    "`python manage.py migrate`"
   ]
  },
  {
   "cell_type": "markdown",
   "metadata": {
    "slideshow": {
     "slide_type": "subslide"
    }
   },
   "source": [
    "### Make Serializer for Events\n",
    "\n",
    "Create the file `/events-backend/event/serializers.py` file in events and create serializer:\n",
    "\n",
    "```python\n",
    "from django.contrib.auth.models import User, Group\n",
    "from .models import Event\n",
    "from rest_framework import serializers\n",
    "\n",
    "\n",
    "# serializers to convert from Django model objects to JSON\n",
    "class UserSerializer(serializers.HyperlinkedModelSerializer):\n",
    "    class Meta:\n",
    "        model = User\n",
    "        fields = ('url', 'username', 'email', 'groups')\n",
    "\n",
    "# or specify all fields\n",
    "class EventSerializer(serializers.HyperlinkedModelSerializer):\n",
    "    class Meta:\n",
    "        model = Event\n",
    "        fields = '__all__'\n",
    "```"
   ]
  },
  {
   "cell_type": "markdown",
   "metadata": {
    "slideshow": {
     "slide_type": "subslide"
    }
   },
   "source": [
    "### Creating a View for our Events\n",
    "\n",
    "Navigate to the `views.py` file in our events app. Create viewsets:\n",
    "\n",
    "```python\n",
    "from django.contrib.auth.models import User\n",
    "from rest_framework import viewsets\n",
    "from .models import Event\n",
    "from .serializers import UserSerializer, EventSerializer\n",
    "\n",
    "\n",
    "class UserViewSet(viewsets.ModelViewSet):\n",
    "    \"\"\"\n",
    "    API endpoint that allows users to be viewed or edited.\n",
    "    \"\"\"\n",
    "    queryset = User.objects.all().order_by('-date_joined')\n",
    "    serializer_class = UserSerializer\n",
    "\n",
    "class EventViewSet(viewsets.ModelViewSet):\n",
    "    \"\"\"\n",
    "    API endpoint that allows groups to be viewed or edited.\n",
    "    \"\"\"\n",
    "    resource_name = 'events'\n",
    "    queryset = Event.objects.all()\n",
    "    serializer_class = EventSerializer\n",
    "```"
   ]
  },
  {
   "cell_type": "markdown",
   "metadata": {
    "slideshow": {
     "slide_type": "subslide"
    }
   },
   "source": [
    "### Connecting our URLs\n",
    "\n",
    "In `events-backend/main_project/urls.py`, register the EventViewSet and the UserViewSet\n",
    "\n",
    "```python\n",
    "from django.urls import include, path\n",
    "from django.contrib import admin\n",
    "from rest_framework import routers\n",
    "from events import views\n",
    "\n",
    "router = routers.DefaultRouter()\n",
    "router.register(r'users', views.UserViewSet)\n",
    "router.register(r'events', views.EventViewSet)\n",
    "\n",
    "urlpatterns = [\n",
    "    path('api/', include(router.urls)),\n",
    "    path('api-auth/', include('rest_framework.urls', namespace='rest_framework')),\n",
    "    path('admin/', admin.site.urls),\n",
    "]\n",
    "```"
   ]
  },
  {
   "cell_type": "markdown",
   "metadata": {
    "slideshow": {
     "slide_type": "slide"
    }
   },
   "source": [
    "## Start Server and Witness the Magic DRF API\n",
    "\n",
    "Run: `python manage.py runserver`\n",
    "\n",
    "And navigate to Events API: http://localhost:8000/api/events/"
   ]
  },
  {
   "cell_type": "markdown",
   "metadata": {
    "slideshow": {
     "slide_type": "slide"
    }
   },
   "source": [
    "# COMMIT\n",
    "\n",
    "Backend API endpoint created for events"
   ]
  },
  {
   "cell_type": "markdown",
   "metadata": {
    "slideshow": {
     "slide_type": "subslide"
    }
   },
   "source": [
    "# What's a serializer doin anyhow?!\n",
    "\n",
    "\n",
    "![Serialization from Django Model to JSON](./static/drf-serializer-figure.png \"Serialization from Django Model to JSON\")"
   ]
  },
  {
   "cell_type": "markdown",
   "metadata": {
    "slideshow": {
     "slide_type": "subslide"
    }
   },
   "source": [
    "# Recap of Backend\n",
    "\n",
    "\n",
    "![The parts of our django project](./static/django-architecture.png \"The parts of our django project\")\n",
    "\n",
    "### What's in this diagram that we have not yet incorperated into our django project?"
   ]
  },
  {
   "cell_type": "markdown",
   "metadata": {
    "slideshow": {
     "slide_type": "slide"
    }
   },
   "source": [
    "# Our Data on JSON-API\n",
    "\n",
    "JSON is awesome - it is very flexible... 🤔 too flexible for it's own good\n",
    "\n",
    "JSON-API Specification helps us know what to expect!\n",
    "> By following shared conventions, you can increase productivity, take advantage of generalized tooling, and focus on what matters: your application.\n",
    "\n",
    "Also, Ember data expects JSON-API. Convenient! No munging Django Models --> Ember Models\n",
    "\n"
   ]
  },
  {
   "cell_type": "markdown",
   "metadata": {
    "slideshow": {
     "slide_type": "subslide"
    }
   },
   "source": [
    "![Side by Side comparison of JSON vs JSON API](static/json-vs-jsonapi.png \"Side by Side comparison of JSON vs JSON API\")\n",
    "\n",
    "While JSON-API is more verbose, the consisten structure and the information provided is much more useful for microservice communication."
   ]
  },
  {
   "cell_type": "markdown",
   "metadata": {
    "slideshow": {
     "slide_type": "subslide"
    }
   },
   "source": [
    "### Activate JSON-API in our Django App\n",
    "\n",
    "We have already installed DRF JSON-API at the start. Paste the following code in `main_project/settings.py` to set up JSON-API:\n",
    "\n",
    "```python\n",
    "# RestFramework settings for DjangoRestFramework-JSONAPI\n",
    "REST_FRAMEWORK = {\n",
    "  'PAGE_SIZE': 100,\n",
    "\n",
    "  'EXCEPTION_HANDLER':\n",
    "    'rest_framework_json_api.exceptions.exception_handler',\n",
    "\n",
    "  'DEFAULT_PAGINATION_CLASS':    'rest_framework_json_api.pagination.JsonApiPageNumberPagination',\n",
    "  'DEFAULT_PARSER_CLASSES': (\n",
    "    'rest_framework_json_api.parsers.JSONParser',\n",
    "    'rest_framework.parsers.FormParser',\n",
    "    'rest_framework.parsers.MultiPartParser'\n",
    "  ),\n",
    "  'DEFAULT_RENDERER_CLASSES': (\n",
    "    'rest_framework_json_api.renderers.JSONRenderer',\n",
    "    'rest_framework.renderers.BrowsableAPIRenderer',\n",
    "   ),\n",
    "   'DEFAULT_METADATA_CLASS': 'rest_framework_json_api.metadata.JSONAPIMetadata',\n",
    "   'DEFAULT_FILTER_BACKENDS': (\n",
    "     'rest_framework.filters.OrderingFilter',\n",
    "    ),\n",
    "   'ORDERING_PARAM': 'sort',\n",
    "\n",
    "   'TEST_REQUEST_RENDERER_CLASSES': (\n",
    "     'rest_framework_json_api.renderers.JSONRenderer',\n",
    "    ),\n",
    "\n",
    "   'TEST_REQUEST_DEFAULT_FORMAT': 'vnd.api+json'\n",
    "}\n",
    "```\n",
    "\n",
    "You can refresh the API in your browser and see the data format has changed: http://localhost:8000/api/events"
   ]
  },
  {
   "cell_type": "markdown",
   "metadata": {
    "slideshow": {
     "slide_type": "subslide"
    }
   },
   "source": [
    "# The Cheese\n",
    "\n",
    "\n",
    "![API Endgoal](./static/simple-api-github.png \"API Endgoal\")"
   ]
  },
  {
   "cell_type": "markdown",
   "metadata": {
    "slideshow": {
     "slide_type": "slide"
    }
   },
   "source": [
    "## Frontend Startup\n",
    "\n",
    "In base folder: `ember-django`\n",
    "\n",
    "Install Ember: `npm install -g ember-cli`\n",
    "\n",
    "Create App: `ember new events-frontend`\n",
    "\n",
    "Enter into Directory: `cd events-frontend`\n",
    "\n",
    "**Note**: Ember already creates a git repository. You can delete it with `rm -rf .git` if you plan to use a sinple repo in the base folder"
   ]
  },
  {
   "cell_type": "markdown",
   "metadata": {
    "slideshow": {
     "slide_type": "subslide"
    }
   },
   "source": [
    "## Well Hello, Tomster!\n",
    "![Tomster Welcome](static/tomster_welcome.png \"Ember Welcome Page\")"
   ]
  },
  {
   "cell_type": "markdown",
   "metadata": {
    "slideshow": {
     "slide_type": "slide"
    }
   },
   "source": [
    "# Load in data - the classic \"GET\"\n",
    "\n",
    "To get our data from the API, we will need to:\n",
    "1. Set up the API URL in `adapter/application.js`\n",
    "2. Create a model for our event data\n",
    "3. Fetch our data in our route javascript file\n",
    "4. Display the data in the browser"
   ]
  },
  {
   "cell_type": "markdown",
   "metadata": {
    "slideshow": {
     "slide_type": "subslide"
    }
   },
   "source": [
    "## Set up the API URL in `adapter/application.js`\n",
    "\n",
    "Creat our adapter with Ember CLI: `ember g adapter application`\n",
    "\n",
    "In the file `app/adapters/application.js` update with:\n",
    "\n",
    "```javascript\n",
    "import DS from 'ember-data';\n",
    "import { computed } from '@ember/object';\n",
    "\n",
    "export default DS.RESTAdapter.extend({\n",
    "  host: computed(function(){\n",
    "    return 'http://localhost:8000';\n",
    "  }),\n",
    "  namespace: 'api',\n",
    "  buildURL: function(type, id, record) {\n",
    "  //call the default buildURL and then append a slash\n",
    "  return this._super(type, id, record) + '/';\n",
    "  }\n",
    "});\n",
    "```\n",
    "\n",
    "Builds URL with: `{ host }` / `{ namespace }` / `{extra bits }` `{append /}` \n",
    "     \n",
    "  --> `http://localhost:8000/` `api/` `events/1` `/`"
   ]
  },
  {
   "cell_type": "code",
   "execution_count": null,
   "metadata": {},
   "outputs": [],
   "source": []
  }
 ],
 "metadata": {
  "celltoolbar": "Slideshow",
  "kernelspec": {
   "display_name": "Python 3",
   "language": "python",
   "name": "python3"
  },
  "language_info": {
   "codemirror_mode": {
    "name": "ipython",
    "version": 3
   },
   "file_extension": ".py",
   "mimetype": "text/x-python",
   "name": "python",
   "nbconvert_exporter": "python",
   "pygments_lexer": "ipython3",
   "version": "3.7.3"
  }
 },
 "nbformat": 4,
 "nbformat_minor": 2
}
